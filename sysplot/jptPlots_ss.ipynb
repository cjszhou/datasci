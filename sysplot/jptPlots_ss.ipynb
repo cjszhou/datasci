{
 "metadata": {
  "language_info": {
   "codemirror_mode": {
    "name": "ipython",
    "version": 3
   },
   "file_extension": ".py",
   "mimetype": "text/x-python",
   "name": "python",
   "nbconvert_exporter": "python",
   "pygments_lexer": "ipython3",
   "version": "3.8.2-final"
  },
  "orig_nbformat": 2,
  "kernelspec": {
   "name": "python3",
   "display_name": "Python 3.8.2 64-bit",
   "metadata": {
    "interpreter": {
     "hash": "20bf69066c0dd38d51965b69d5e1b6e387082e3198ba56e97997ac55f4e50ad0"
    }
   }
  }
 },
 "nbformat": 4,
 "nbformat_minor": 2,
 "cells": [
  {
   "source": [
    "MatPlot"
   ],
   "cell_type": "markdown",
   "metadata": {}
  },
  {
   "source": [
    "# SS Perf"
   ],
   "cell_type": "markdown",
   "metadata": {}
  },
  {
   "cell_type": "code",
   "execution_count": 1,
   "metadata": {},
   "outputs": [],
   "source": [
    "import os\n",
    "import re\n",
    "import numpy as np\n",
    "import matplotlib.pyplot as plt"
   ]
  },
  {
   "cell_type": "code",
   "execution_count": null,
   "metadata": {},
   "outputs": [],
   "source": [
    "TiologPath = r'X:\\Case and FA\\Phoenix\\MBUSE-1241\\tiotest\\AHIT12ms\\256G'\n",
    "\n",
    "os.chdir(TiologPath)\n",
    "loglist = [log for log in os.listdir(TiologPath) if os.path.isfile(log) and 'swsr' in log]\n",
    "# print(loglist)\n",
    "\n",
    "def ParseTiologName(TiologName):\n",
    "    reStr_swsrfilename = r'.*ss_swsr_tl(\\d+)kb_(\\S+)_(\\d+).txt'\n",
    "    match_swsrfile = re.match(reStr_swsrfilename,TiologName)\n",
    "    if match_swsrfile:\n",
    "        swsrTL = int(match_swsrfile.group(1))\n",
    "        swsrOpt = match_swsrfile.group(2)\n",
    "        swsrRound = int(match_swsrfile.group(3))\n",
    "    else:\n",
    "        print('Tiolog name %s is not expected!'% TiologName)\n",
    "    return swsrRound, swsrTL, swsrOpt"
   ]
  },
  {
   "cell_type": "code",
   "execution_count": null,
   "metadata": {
    "tags": []
   },
   "outputs": [],
   "source": [
    "lstSWperf = [[] for row in range(len(loglist))]\n",
    "lstSRperf = [[] for row in range(len(loglist))]\n",
    "\n",
    "def ParsePerf(OrderNum, Tiolog):\n",
    "    reStr_TioSWperf = r'\\|\\s+Write\\s+.*\\|\\s+(\\d+.\\d+)\\s+MB/s'\n",
    "    reStr_TioSRperf = r'\\|\\s+Read\\s+.*\\|\\s+(\\d+.\\d+)\\s+MB/s'\n",
    "\n",
    "    with open(Tiolog,newline='') as file:\n",
    "        lines = file.readlines()\n",
    "\n",
    "        for i in range(len(lines)):\n",
    "            match_SWperf  = re.match(reStr_TioSWperf, lines[i])\n",
    "            match_SRperf  = re.match(reStr_TioSRperf, lines[i])\n",
    "            if match_SWperf:\n",
    "                global lstSWperf\n",
    "                lstSWperf[OrderNum].append(float(match_SWperf.group(1)))\n",
    "            if match_SRperf:\n",
    "                global lstSRperf\n",
    "                lstSRperf[OrderNum].append(float(match_SRperf.group(1)))\n",
    "        #print('SWperf rows:\\t%d' % len(lstSWperf[OrderNum]))\n",
    "        #print('SRperf rows:\\t%d' % len(lstSRperf[OrderNum]))\n",
    "        return ParseTiologName(Tiolog)\n",
    "\n"
   ]
  },
  {
   "cell_type": "code",
   "execution_count": null,
   "metadata": {},
   "outputs": [],
   "source": [
    "plt.figure(figsize=(6, 7))\n",
    "plt.title('CS FW 0001 256G Seq Write Read 1G Cumulative test\\n AHIT12ms on YJ8250')\n",
    "plt.xlim(1, 218)\n",
    "plt.ylim(0, 1800)\n",
    "plt.xlabel('GB')\n",
    "plt.ylabel('MBps')\n",
    "\n",
    "lstMarker = ['.', 'o', '^', 's']\n",
    "lstColor = ['gold', 'purple', 'lightgreen', 'royalblue' ]\n",
    "\n",
    "\n",
    "i = 0\n",
    "for log in loglist:\n",
    "    #print('\\n')\n",
    "    #print(log)\n",
    "    swsrRound, swsrTL, swsrOpt = ParsePerf(i, log)\n",
    "    #print(lstSWperf[i])\n",
    "    Pmarker = lstMarker[swsrRound]\n",
    "    Pcolor = lstColor[int(i/3)]\n",
    "    plt.plot(lstSWperf[i], c=Pcolor, linewidth=1, alpha=0.2, marker=Pmarker, label='SW%d_TL%dKB_%s'%(swsrRound,swsrTL,swsrOpt))\n",
    "    plt.plot(lstSRperf[i], c=Pcolor, linewidth=1, alpha=0.2, marker=Pmarker, label='SR%d_TL%dKB_%s'%(swsrRound,swsrTL,swsrOpt))\n",
    "    plt.legend(bbox_to_anchor=(1.02,0), loc=3, borderaxespad=1)\n",
    "    i = i+1\n",
    "\n",
    "\n"
   ]
  },
  {
   "source": [
    "# ftrace"
   ],
   "cell_type": "markdown",
   "metadata": {}
  },
  {
   "cell_type": "code",
   "execution_count": null,
   "metadata": {},
   "outputs": [],
   "source": [
    "import re\n",
    "import numpy as np\n",
    "import matplotlib.pyplot as plt\n"
   ]
  },
  {
   "cell_type": "code",
   "execution_count": null,
   "metadata": {
    "tags": []
   },
   "outputs": [],
   "source": [
    "\n",
    "def ParseFtrace(ftracelog, MB):\n",
    "\n",
    "    reStr_Write10_ufshcdcmd = r'.*(\\d+.\\d+): ufshcd_command:.*scsi_send.*cmd: 0x2a lba: (\\d+)\\s+size:\\s+(\\d+)'\n",
    "    reStr_Read10_ufshcdcmd = r'.*(\\d+.\\d+): ufshcd_command:.*scsi_send.*cmd: 0x28 lba: (\\d+)\\s+size:\\s+(\\d+)'\n",
    "    reStr_Unmap_blockrq = r'.*\\s+(\\d+.\\d+):\\s+block_rq_complete:\\s+8,0\\s+D\\s+\\(\\)\\s+(\\d+)\\s+\\+\\s+(\\d+)\\s+\\[0'\n",
    "\n",
    "    with open(ftracelog,newline='') as file:\n",
    "        lines = file.readlines(1024*1024*MB)\n",
    "        #print('Total row: {}'.format(len(lines)))\n",
    "        #print('First row: {}'.format(lines[0]))\n",
    "        #print('Last  row: {}'.format(lines[-1]))\n",
    "        lstWrite10StartLba = []\n",
    "        lstWrite10TL = []\n",
    "        lstWrite10ExtLba = []\n",
    "        lstWrite10Num = []\n",
    "        lstRead10StartLba = []\n",
    "        lstRead10TL = []\n",
    "        lstRead10ExtLba = []\n",
    "        lstRead10Num = []\n",
    "        lstUnmapStartLba = []\n",
    "        lstUnmapTL = []\n",
    "        lstUnmapExtLba = []\n",
    "        lstUnmapNum = []\n",
    "     \n",
    "        for i in range(len(lines)):\n",
    "            match_Write10_ufshcdcmd = re.match(reStr_Write10_ufshcdcmd, lines[i])\n",
    "            match_Read10_ufshcdcmd = re.match(reStr_Read10_ufshcdcmd, lines[i])\n",
    "            match_Unmap_blockrq = re.match(reStr_Unmap_blockrq, lines[i])\n",
    "            if match_Write10_ufshcdcmd:\n",
    "                lstWrite10StartLba.append(int(int(match_Write10_ufshcdcmd.group(2))/8))\n",
    "                lstWrite10TL.append(int(int(match_Write10_ufshcdcmd.group(3))/4096))\n",
    "                lstWrite10Num.append(i)\n",
    "                if lstWrite10TL[-1] > 1:\n",
    "                    lstWrite10ExtLba.append([i, lstWrite10StartLba[-1]+lstWrite10TL[-1]-1])\n",
    "            if match_Read10_ufshcdcmd:\n",
    "                lstRead10StartLba.append(int(int(match_Read10_ufshcdcmd.group(2))/8))\n",
    "                lstRead10TL.append(int(int(match_Read10_ufshcdcmd.group(3))/4096))\n",
    "                lstRead10Num.append(i)\n",
    "                if lstRead10TL[-1] > 1:\n",
    "                    lstRead10ExtLba.append([i, lstRead10StartLba[-1]+lstRead10TL[-1]-1])       \n",
    "            if match_Unmap_blockrq:\n",
    "                lstUnmapStartLba.append(int(int(match_Unmap_blockrq.group(2))/8))\n",
    "                lstUnmapTL.append(int(int(match_Unmap_blockrq.group(3))/8))\n",
    "                lstUnmapNum.append(i)\n",
    "                if lstUnmapTL[-1] > 1:\n",
    "                    lstUnmapExtLba.append([i, lstUnmapStartLba[-1]+lstUnmapTL[-1]-1])\n",
    "        print('\\n%s' % ftracelog)\n",
    "        print('Write10 commands:\\t%d' % len(lstWrite10StartLba))\n",
    "        print('Read10 commands:\\t%d' % len(lstRead10StartLba))\n",
    "        print('Unmap commands:\\t\\t%d' % len(lstUnmapStartLba))\n",
    "        return [lstWrite10Num, lstWrite10StartLba, lstWrite10TL, lstWrite10ExtLba, lstRead10Num, lstRead10StartLba, lstRead10TL, lstRead10ExtLba, lstUnmapNum, lstUnmapStartLba, lstUnmapTL, lstUnmapExtLba]\n",
    "\n",
    "\n",
    "def lst2npXY(Values2D, outputX=True, outputY=True):\n",
    "   lstX = []\n",
    "   lstY = []\n",
    "   for val in Values2D:\n",
    "       lstX.append(val[0])\n",
    "       lstY.append(val[1])\n",
    "   if outputX and outputY:\n",
    "       return np.array(lstX), np.array(lstY)\n",
    "   if outputX:\n",
    "       return np.array(lstX)\n",
    "   if outputY:\n",
    "       return np.array(lstY)\n"
   ]
  },
  {
   "cell_type": "code",
   "execution_count": null,
   "metadata": {},
   "outputs": [],
   "source": [
    "ftracelog = r'X:\\Case and FA\\Phoenix\\MBUSE-1241\\ftrace\\ParsedByGB\\TraceTrace_Run1_GB1.txt'\n",
    "#ftracePath = r'X:\\Case and FA\\Phoenix\\MBUSE-1241\\ftrace\\ParsedByGB'\n",
    "ftracePath = r'X:\\Case and FA\\Phoenix\\MBUSE-1241\\tiotest\\CSL03\\_n_outputfile'\n",
    "\n",
    "os.chdir(ftracePath)\n",
    "loglist = [log for log in os.listdir(ftracePath) if os.path.isfile(log) and '_' in log][:1]\n",
    "print(loglist)\n"
   ]
  },
  {
   "cell_type": "code",
   "execution_count": null,
   "metadata": {},
   "outputs": [],
   "source": [
    "\n",
    "glstWrite10StartLba = []\n",
    "glstWrite10TL = []\n",
    "glstWrite10ExtLba = []\n",
    "glstWrite10Num = []\n",
    "glstRead10StartLba = []\n",
    "glstRead10TL = []\n",
    "glstRead10ExtLba = []\n",
    "glstRead10Num = []\n",
    "glstUnmapStartLba = []\n",
    "glstUnmapTL = []\n",
    "glstUnmapExtLba = []\n",
    "glstUnmapNum = []\n",
    "\n",
    "for log in loglist:\n",
    "    lstFtrace = ParseFtrace(log, 50)\n",
    "\n",
    "    glstWrite10Num.extend(lstFtrace[0])\n",
    "    glstWrite10StartLba.extend(lstFtrace[1])\n",
    "    glstWrite10TL.extend(lstFtrace[2])\n",
    "    glstWrite10ExtLba.extend(lstFtrace[3])\n",
    "    glstRead10Num.extend(lstFtrace[4])\n",
    "    glstRead10StartLba.extend(lstFtrace[5])\n",
    "    glstRead10TL.extend(lstFtrace[6])\n",
    "    glstRead10ExtLba.extend(lstFtrace[7])\n",
    "    glstUnmapNum.extend(lstFtrace[8])\n",
    "    glstUnmapStartLba.extend(lstFtrace[9])\n",
    "    glstUnmapTL.extend(lstFtrace[10])\n",
    "    glstUnmapExtLba.extend(lstFtrace[11])\n"
   ]
  },
  {
   "cell_type": "code",
   "execution_count": null,
   "metadata": {},
   "outputs": [],
   "source": [
    "\n",
    "#plt.figure(figsize=(20, 15))\n",
    "plt.title('LBA Dist.')\n",
    "#plt.ylim(1e7,2e7)\n",
    "plt.xlabel('Commands')\n",
    "plt.ylabel('LBA')\n",
    "\n",
    "\n",
    "plt.scatter(glstWrite10Num, glstWrite10StartLba, c='r', s=1, alpha=0.05, label='Write10')\n",
    "plt.scatter(glstRead10Num, glstRead10StartLba, c='b', s=1, alpha=0.05, label='Read10')\n",
    "plt.scatter(glstUnmapNum, glstUnmapStartLba, c='y', s=1, alpha=0.05, label='Unmap')\n",
    "\n",
    "npXval, npYval = lst2npXY(glstWrite10ExtLba)\n",
    "plt.scatter(npXval, npYval, c='r', s=1, alpha=0.0, marker='+')\n",
    "npXval, npYval = lst2npXY(glstRead10ExtLba)\n",
    "plt.scatter(npXval, npYval, c='b', s=1, alpha=0.0, marker='+')\n",
    "npXval, npYval = lst2npXY(glstUnmapExtLba)\n",
    "plt.scatter(npXval, npYval, c='y', s=1, alpha=0.0, marker='+')\n",
    "\n",
    "plt.legend(bbox_to_anchor=(1.02,0), loc=3, borderaxespad=1)"
   ]
  },
  {
   "cell_type": "code",
   "execution_count": null,
   "metadata": {},
   "outputs": [],
   "source": []
  },
  {
   "cell_type": "code",
   "execution_count": null,
   "metadata": {},
   "outputs": [],
   "source": []
  }
 ]
}