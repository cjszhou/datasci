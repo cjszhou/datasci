{
 "cells": [
  {
   "cell_type": "code",
   "execution_count": 2,
   "metadata": {},
   "outputs": [],
   "source": [
    "import requests\n",
    "\n"
   ]
  },
  {
   "cell_type": "code",
   "execution_count": 3,
   "metadata": {},
   "outputs": [
    {
     "name": "stdout",
     "output_type": "stream",
     "text": [
      "200\n"
     ]
    }
   ],
   "source": [
    "r = requests.get('http://www.planning.org.cn/')\n",
    "print(r.status_code)"
   ]
  },
  {
   "cell_type": "code",
   "execution_count": 4,
   "metadata": {},
   "outputs": [
    {
     "name": "stdout",
     "output_type": "stream",
     "text": [
      "200\n"
     ]
    }
   ],
   "source": [
    "# Get browser header: F12-->Network-->Doc-->Headers-->Request Headers-->User-Agent\n",
    "header = {\n",
    "    'User-Agent': 'Mozilla/5.0 (Macintosh; Intel Mac OS X 10_15_7) AppleWebKit/537.36 (KHTML, like Gecko) Chrome/99.0.4844.74 Safari/537.36'\n",
    "}\n",
    "r2 = requests.get('http://www.qixin.com/', headers=header)\n",
    "print(r2.status_code)"
   ]
  },
  {
   "cell_type": "code",
   "execution_count": 5,
   "metadata": {},
   "outputs": [],
   "source": [
    "from lxml import etree\n",
    "url = 'http://planning.org.cn/news/newslist?cid=12&page=1'\n",
    "txttmp  = requests.get(url).text\n",
    "htmltmp = etree.HTML(txttmp)"
   ]
  },
  {
   "cell_type": "code",
   "execution_count": 6,
   "metadata": {},
   "outputs": [
    {
     "name": "stdout",
     "output_type": "stream",
     "text": [
      "北京印发国土空间调查、规划、用途管制用地分类指南\n",
      "http://www.planning.org.cn/news/view?id=12429&cid=12\n"
     ]
    }
   ],
   "source": [
    "strtmp = htmltmp.xpath('//h4/a/text()')\n",
    "linktmp = htmltmp.xpath('//h4/a/@href')\n",
    "print(strtmp[2].encode('ISO-8859-1').decode('utf-8'))  # Chinese characters decode\n",
    "print('http://www.planning.org.cn' + linktmp[2])"
   ]
  },
  {
   "cell_type": "code",
   "execution_count": 9,
   "metadata": {},
   "outputs": [
    {
     "name": "stdout",
     "output_type": "stream",
     "text": [
      "北京印发国土空间调查、规划、用途管制用地分类指南\n",
      "一图读懂| 上海开展城市体检工作，提升城市现代化治理水平！\n",
      "住房和城乡建设部村镇建设司召开“设计下乡”工作座谈会\n",
      "我国将开展青年发展型城市建设试点\n",
      "江西九江入列中国国家历史文化名城\n",
      "北京市首个乡镇国土空间规划批复\n",
      "首都新发展格局下的乡镇国土空间规划\n",
      "《长株潭都市圈发展规划》正式印发\n",
      "为子孙后代留下美丽家园——习近平总书记关心推动国土绿化纪实\n",
      "联合国统计委员会批准全球城市监测框架\n",
      "举全党全社会之力推动乡村振兴\n",
      "联合国人居署宣布设立“上海全球可持续发展城市奖”\n",
      "浙江印发执行国土空间设计技术指南\n",
      "千年大计 雄安五年\n",
      "《全国城镇老旧小区改造统计调查制度》印发\n"
     ]
    }
   ],
   "source": [
    "strtmp2 = htmltmp.xpath('//div[@class=\"theiaStickySidebar\"]/div/h4/a')\n",
    "for t in strtmp2:\n",
    "    print(t.xpath('text()')[0].encode('ISO-8859-1').decode('utf-8'))"
   ]
  },
  {
   "cell_type": "code",
   "execution_count": null,
   "metadata": {},
   "outputs": [],
   "source": []
  }
 ],
 "metadata": {
  "interpreter": {
   "hash": "31f2aee4e71d21fbe5cf8b01ff0e069b9275f58929596ceb00d14d90e3e16cd6"
  },
  "kernelspec": {
   "display_name": "Python 3",
   "language": "python",
   "name": "python3"
  },
  "language_info": {
   "codemirror_mode": {
    "name": "ipython",
    "version": 3
   },
   "file_extension": ".py",
   "mimetype": "text/x-python",
   "name": "python",
   "nbconvert_exporter": "python",
   "pygments_lexer": "ipython3",
   "version": "3.7.3"
  }
 },
 "nbformat": 4,
 "nbformat_minor": 4
}
